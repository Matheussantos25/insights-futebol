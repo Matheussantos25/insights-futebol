{
 "cells": [
  {
   "cell_type": "code",
   "execution_count": 5,
   "metadata": {},
   "outputs": [
    {
     "name": "stdout",
     "output_type": "stream",
     "text": [
      "['6Hidn9IU', '8dQNOEK6', 'OULmWBpN', 'GbZWZgob', 'fDCJQk8p', 't6WrXiVG', 'YZqSzzWi', '2FXvYXFA', 'KWuOyGGo', '6TitDWwo', 'fkYzZD04', 'xYPiVVaT', 'bRfbqt2j', 'pnPUJDKJ', 'YL4gMzHb', 'fV5kNG1h', 'nRaZGuuJ', 'EVC1KEoB', 'Qe1oOdnn', '4K5EHCVT', '8hC5JY0H', 'n52sPxXu', 'GpfbLfW4', 'nqB9IhGN', 'S01oS5mK', '0AcNJse0', 'norIMqBs', 'v1dRI1A6', 'YNeVHLPC', 't8sML3Qm', 'APjjRP2Q', 'KbtQKNuf', 'lA2sToYD', '0f9a42eD', 'UDyM77RO', 'QyeHiPB7', 'tpw4FS3E', 'z7x8EnJK', 'YsIr8pdl', 'M3Ae5rt7', 'fiJv9Qtr', 'StZaG8l8', 'EcyCD6YQ', 'vuLj6OQ0', 'S4Hn74Bf', 'QgAI3V42', 'CjMzunS1', 'EJr6fRRl', 'fZ1Zam4R', 'ML3R19ZE', 'Wfg1e7Cr', 'hAsAgose', 'nodDh5d1', '0C2V0TlL', '4p9M2kK8', 'vwnyihLd', 'IiTRt8ck', 'xIg2r0Hd', 'CjpqkWk9', 'n9xdnUZR', 'Qglmlj5F', 'v1UNslrq', 'ITpujCz3', '0GIWuSCe', '8IwhmAKL', 'WCvI3Am5', '44efpMnp', 'OnyA5WIh', 'tOo56C3n', 'A3wM2U2B', 'rNI0qXr7', 'rwT17hlt', 'AkbmlVmI', 'WbaqkBYB', 'SQhhmk3O', 'xx0ujiJ5', 'hpMdbFBP', 'fg8OgZJt', 'jurEZVYO', 'OYeyiX3a', 'tA6WiDlg', '2J7ShgZn', 'EZnkuz5m', '4Ou2xYl6', 'nmocwEZa', 'rFv6yh4C', '8dngvfKg', 'xxvAzCJI', 'dI6IpdsQ', 'IR7EoxSJ', 'pp2uZbrE', 'bm6qYIcK', 'jLFSNYZC', 'hA5mXxDQ', 'MuOBRGzl', 'fgMJPf50', 'fJiFSdLs', 'ruOdAF5D', 'AT48W5MF', 'zFKlCyy1', '2PSyFwir', 'E1BaYRi3', 'M7ODAOad', 'zBCeZ7xc', 'dOLpDHLf', '4lPhBej7', 'Wx64Xo79', 'EaWuEc6l', 'xGpVInhG', 'tliMK8N3', 'nRiILl8c', 'WI9VcoGj', 'OWrwHQMS', '8zgEMUhi', 'G6qZH67M', '84K9B4pj', 'fieQJSxA', 'QuV4CpVq', 'GnHm698A', 'hSARbR0p', '8MDu8Vwb', 'QcOz9BOi', 'x25d4mwN', 'biWlo8Wp', 'fwGi5TNG', 'CfKW9i9o', 'zmOa37hT', 'nDCq7kg4', 'rJUHhjvB', '80x5ehfh', 'vRX0dYvn', 'xtULiAgH', 'zD7jxVgU', 'GWSPjU8N', 'UFQDgWO4', 'drpNklOT', 'niy9fC9b', '0zZdcEPu', 'Srdk1NQD', 'fcCVtgua', 'YmBZuDf5', 'jP5vuX9B', '48JIqeet', 'nX8NrFAn', '0zDRsZPh', 'UF4rviPH', 'ERh8xvlD', 'Ox4nwBvO', '6e2ms2Zs', 'nBLGnOBK', 'hlMCm4dE', 'tEI8lps8', 'xthSuhw8', 'v90eut4f', 'zyf4wKY6', 'pn1itMll', 'hC4av0J0', 'Q1KKorRQ', 'vPfzhbW2', 'bkgOtYN1', 'UFlKsE8e', 'QL6hTEg2', 'xI9ukdGL', 'jPkGrfgk', 'Wv9qlGVR', 'IFgviIo9', 'bRAyjx1F', '800Bqzvq', 'plGcvu23', 'KKN9ywnM', 'j3EuWG9q', 'vBF1waH9', 'UuYAGyAd', '6cHguLnc', 'bBMDzc1S', 'xdY4xJWF', 'UgDqVzPk', 'CI2lUfvd', 'OEFP4vBp', 'ETkFXZqe', 'GAXH8mCI', 'K6ryNwXS', 'xrgWNJHM', 'G82BSs3i', 'jkZ6HHfj', 'jRfOPumA', 'bifSOa2G', 'dSZ2Icup', 'CzdKQLX3', '25ET3bQj', 'UB6FR1Ic', 'zibmOSB5', 'YR1WRACt', 'th5vQlsg', '84deM6tI', 'UDciNnRB', 'OGfqP8da', '216zRURn', 'rN45DBcm', 'MmYD9TdC', 'rcZ9A9s6', 'OxOYIXZP', 'xp49CVCg', 'Gz3DBkSa', 'UJ01Eirs', 'UJvWbCrf', 'MDH4ribD', 'OtvzbWc0', 'IuXrdASC', 'jTuSahTm', 'OIem7zyE', 'Wrae5E5Q', 'xMai6fjK', 'zHsvcjD6', 'YioN0YDs', 'zcJdpDT0', 'ravIieyR', 'd6KhogEf', '0vRqmFqr', 'nXp9gH6E', '8tn5fci8', 'fwbNVDE7', 'EsVmnZbl', '48uEhyMK', 'nFZYi4V9', 'YBVUhpG3', '0bXMf6oi', 'zwiBYFUl', 'dhuKWga1', 'UwPwiOpG', '06RoWM8j', '63n7ZeFr', 'vkWQgQ0c', 'vTfjsmHi', 'ShinrT1o', 'jXyCxPVM', '4ztGyqoT', 'UHm3vo1A', '0rqauRo4', 'Mipet7Wc', '88n7w5GG', 'MFSsX2gp', 'Ek34JqPp']\n"
     ]
    }
   ],
   "source": [
    "from time import sleep\n",
    "from selenium import webdriver\n",
    "from selenium.webdriver.common.by import By\n",
    "from selenium.webdriver.chrome.options import Options\n",
    "from selenium.webdriver.chrome.service import Service\n",
    "from webdriver_manager.chrome import ChromeDriverManager\n",
    "from selenium.webdriver.support.ui import WebDriverWait\n",
    "from selenium.webdriver.support import expected_conditions as EC\n",
    "import warnings\n",
    "warnings.filterwarnings(\"ignore\")\n",
    "\n",
    "from selenium import webdriver\n",
    "from selenium.webdriver.chrome.service import Service\n",
    "\n",
    "# Corrigindo o caminho para o ChromeDriver\n",
    "s = Service(r'C:\\Users\\msdof\\Downloads\\chromedriver-win64\\chromedriver-win64\\chromedriver.exe')  # Use raw string para evitar problemas com \"\\\"\n",
    "driver = webdriver.Chrome(service=s)\n",
    "\n",
    "chrome_options = Options()\n",
    "chrome_options.add_argument(\"--headless\")\n",
    "\n",
    "s=Service(ChromeDriverManager().install())\n",
    "driver = webdriver.Chrome(service=s)\n",
    "driver.maximize_window()\n",
    "\n",
    "#https://www.flashscore.com.br/futebol/brasil/serie-a/resultados/\n",
    "liga = 'brazil/serie-a'\n",
    "url = f'https://www.flashscore.com.br/futebol/{liga}/resultados/'\n",
    "driver.get(url)\n",
    "\n",
    "try:\n",
    "    WebDriverWait(driver, 8).until(EC.visibility_of_element_located((By.CSS_SELECTOR,'button#onetrust-accept-btn-handler')))\n",
    "    button_cookies = driver.find_element(By.CSS_SELECTOR,'button#onetrust-accept-btn-handler')\n",
    "    button_cookies.click()\n",
    "except:\n",
    "    print(\"cookies already closed\")\n",
    "    \n",
    "    \n",
    "while True:\n",
    "    botoes_proxima_pagina = driver.find_elements(By.CSS_SELECTOR, 'a.event__more--static')\n",
    "    if not botoes_proxima_pagina:\n",
    "        break\n",
    "    botoes_proxima_pagina[0].click()\n",
    "    sleep(1) \n",
    "  \n",
    "sleep(5)    \n",
    "    \n",
    "\n",
    "jogos = driver.find_elements(By.CSS_SELECTOR,'div.event__match')\n",
    "\n",
    "sleep(3)\n",
    "\n",
    "id_jogos =[]\n",
    "\n",
    "\n",
    "for i in jogos:\n",
    "    id_jogos.append(i.get_attribute(\"id\")[4:])  \n",
    "    \n",
    "    \n",
    "print(id_jogos)      "
   ]
  },
  {
   "cell_type": "markdown",
   "metadata": {},
   "source": [
    "Webscrapping de arquivo json"
   ]
  },
  {
   "cell_type": "code",
   "execution_count": 7,
   "metadata": {},
   "outputs": [
    {
     "name": "stderr",
     "output_type": "stream",
     "text": [
      "  0%|          | 0/19 [00:00<?, ?it/s]"
     ]
    },
    {
     "name": "stdout",
     "output_type": "stream",
     "text": [
      "Brasileirão Betano 2024 Resultados - Futebol/Brasil\n"
     ]
    },
    {
     "name": "stderr",
     "output_type": "stream",
     "text": [
      "100%|██████████| 5/5 [00:31<00:00,  6.38s/it]\n",
      "  5%|▌         | 1/19 [00:49<14:47, 49.29s/it]"
     ]
    },
    {
     "name": "stdout",
     "output_type": "stream",
     "text": [
      "cookies already closed\n",
      "Campeonato Brasileiro da Série B Resultados - Futebol/Brasil\n"
     ]
    },
    {
     "name": "stderr",
     "output_type": "stream",
     "text": [
      "100%|██████████| 5/5 [00:28<00:00,  5.77s/it]\n",
      " 11%|█         | 2/19 [01:41<14:23, 50.80s/it]"
     ]
    },
    {
     "name": "stdout",
     "output_type": "stream",
     "text": [
      "cookies already closed\n",
      "Série C 2024 Resultados - Futebol/Brasil\n"
     ]
    },
    {
     "name": "stderr",
     "output_type": "stream",
     "text": [
      "100%|██████████| 5/5 [00:28<00:00,  5.76s/it]\n",
      " 16%|█▌        | 3/19 [02:31<13:27, 50.44s/it]"
     ]
    },
    {
     "name": "stdout",
     "output_type": "stream",
     "text": [
      "cookies already closed\n",
      "Liga MX Resultados - Futebol/México\n"
     ]
    },
    {
     "name": "stderr",
     "output_type": "stream",
     "text": [
      "100%|██████████| 5/5 [00:31<00:00,  6.39s/it]\n",
      " 21%|██        | 4/19 [03:21<12:38, 50.56s/it]"
     ]
    },
    {
     "name": "stdout",
     "output_type": "stream",
     "text": [
      "cookies already closed\n",
      "Eliteserien 2024 Resultados - Futebol/Noruega\n"
     ]
    },
    {
     "name": "stderr",
     "output_type": "stream",
     "text": []
    },
    {
     "name": "stdout",
     "output_type": "stream",
     "text": [
      "Erro ao coletar dados do jogo hIsZNaCT\n"
     ]
    },
    {
     "name": "stderr",
     "output_type": "stream",
     "text": []
    },
    {
     "name": "stdout",
     "output_type": "stream",
     "text": [
      "Erro ao coletar dados do jogo O0Y4Iwzi\n"
     ]
    },
    {
     "name": "stderr",
     "output_type": "stream",
     "text": [
      "100%|██████████| 5/5 [00:22<00:00,  4.41s/it]\n",
      " 26%|██▋       | 5/19 [04:05<11:10, 47.92s/it]"
     ]
    },
    {
     "name": "stdout",
     "output_type": "stream",
     "text": [
      "cookies already closed\n",
      "Allsvenskan 2024 Resultados - Futebol/Suécia\n"
     ]
    },
    {
     "name": "stderr",
     "output_type": "stream",
     "text": [
      "100%|██████████| 5/5 [00:31<00:00,  6.27s/it]\n",
      " 32%|███▏      | 6/19 [04:56<10:40, 49.26s/it]"
     ]
    },
    {
     "name": "stdout",
     "output_type": "stream",
     "text": [
      "cookies already closed\n",
      "Liga J1 2024 Resultados - Futebol/Japão\n"
     ]
    },
    {
     "name": "stderr",
     "output_type": "stream",
     "text": [
      "100%|██████████| 5/5 [00:30<00:00,  6.17s/it]\n",
      " 37%|███▋      | 7/19 [05:50<10:06, 50.53s/it]"
     ]
    },
    {
     "name": "stdout",
     "output_type": "stream",
     "text": [
      "cookies already closed\n",
      "2. Bundesliga 2024/2025 Resultados - Futebol/Alemanha\n"
     ]
    },
    {
     "name": "stderr",
     "output_type": "stream",
     "text": [
      "100%|██████████| 5/5 [00:28<00:00,  5.66s/it]\n",
      " 42%|████▏     | 8/19 [06:38<09:09, 49.98s/it]"
     ]
    },
    {
     "name": "stdout",
     "output_type": "stream",
     "text": [
      "cookies already closed\n",
      "Bundesliga 2024/2025 Resultados - Futebol/Alemanha\n"
     ]
    },
    {
     "name": "stderr",
     "output_type": "stream",
     "text": [
      "100%|██████████| 5/5 [00:29<00:00,  5.88s/it]\n",
      " 47%|████▋     | 9/19 [07:26<08:11, 49.17s/it]"
     ]
    },
    {
     "name": "stdout",
     "output_type": "stream",
     "text": [
      "cookies already closed\n",
      "Liga Profissional Saudita 2024/2025 Resultados - Futebol/Arábia Saudita\n"
     ]
    },
    {
     "name": "stderr",
     "output_type": "stream",
     "text": []
    },
    {
     "name": "stdout",
     "output_type": "stream",
     "text": [
      "Erro ao coletar dados do jogo 4QWPyeiA\n"
     ]
    },
    {
     "name": "stderr",
     "output_type": "stream",
     "text": [
      "100%|██████████| 5/5 [00:26<00:00,  5.24s/it]\n",
      " 53%|█████▎    | 10/19 [08:11<07:11, 47.93s/it]"
     ]
    },
    {
     "name": "stdout",
     "output_type": "stream",
     "text": [
      "cookies already closed\n",
      "Premier League 2024/2025 Resultados - Futebol/Inglaterra\n"
     ]
    },
    {
     "name": "stderr",
     "output_type": "stream",
     "text": [
      "100%|██████████| 5/5 [00:27<00:00,  5.45s/it]\n",
      " 58%|█████▊    | 11/19 [08:57<06:17, 47.24s/it]"
     ]
    },
    {
     "name": "stdout",
     "output_type": "stream",
     "text": [
      "cookies already closed\n",
      "Ligue 1 2024/2025 Resultados - Futebol/França\n"
     ]
    },
    {
     "name": "stderr",
     "output_type": "stream",
     "text": [
      "100%|██████████| 5/5 [00:29<00:00,  5.92s/it]\n",
      " 63%|██████▎   | 12/19 [09:45<05:32, 47.56s/it]"
     ]
    },
    {
     "name": "stdout",
     "output_type": "stream",
     "text": [
      "cookies already closed\n",
      "Serie A 2024/2025 Resultados - Futebol/Itália\n"
     ]
    },
    {
     "name": "stderr",
     "output_type": "stream",
     "text": []
    },
    {
     "name": "stdout",
     "output_type": "stream",
     "text": [
      "Erro ao coletar dados do jogo r1mschUO\n"
     ]
    },
    {
     "name": "stderr",
     "output_type": "stream",
     "text": [
      "100%|██████████| 5/5 [00:26<00:00,  5.25s/it]\n",
      " 68%|██████▊   | 13/19 [10:29<04:39, 46.63s/it]"
     ]
    },
    {
     "name": "stdout",
     "output_type": "stream",
     "text": [
      "cookies already closed\n",
      "Serie B 2024/2025 Resultados - Futebol/Itália\n"
     ]
    },
    {
     "name": "stderr",
     "output_type": "stream",
     "text": []
    },
    {
     "name": "stdout",
     "output_type": "stream",
     "text": [
      "Erro ao coletar dados do jogo OUiGUlfe\n"
     ]
    },
    {
     "name": "stderr",
     "output_type": "stream",
     "text": [
      "100%|██████████| 5/5 [00:24<00:00,  4.97s/it]\n",
      " 74%|███████▎  | 14/19 [11:13<03:48, 45.75s/it]"
     ]
    },
    {
     "name": "stdout",
     "output_type": "stream",
     "text": [
      "cookies already closed\n",
      "LaLiga 2024/2025 Resultados - Futebol/Espanha\n"
     ]
    },
    {
     "name": "stderr",
     "output_type": "stream",
     "text": [
      "100%|██████████| 5/5 [00:28<00:00,  5.64s/it]\n",
      " 79%|███████▉  | 15/19 [11:59<03:03, 45.91s/it]"
     ]
    },
    {
     "name": "stdout",
     "output_type": "stream",
     "text": [
      "cookies already closed\n",
      "LaLiga2 2024/2025 Resultados - Futebol/Espanha\n"
     ]
    },
    {
     "name": "stderr",
     "output_type": "stream",
     "text": [
      "100%|██████████| 5/5 [00:30<00:00,  6.07s/it]\n",
      " 84%|████████▍ | 16/19 [12:49<02:21, 47.02s/it]"
     ]
    },
    {
     "name": "stdout",
     "output_type": "stream",
     "text": [
      "cookies already closed\n",
      "Liga Portugal 2024/2025 Resultados - Futebol/Portugal\n"
     ]
    },
    {
     "name": "stderr",
     "output_type": "stream",
     "text": [
      "100%|██████████| 5/5 [00:30<00:00,  6.13s/it]\n",
      " 89%|████████▉ | 17/19 [13:38<01:35, 47.57s/it]"
     ]
    },
    {
     "name": "stdout",
     "output_type": "stream",
     "text": [
      "cookies already closed\n",
      "Liga Portugal 2 2024/2025 Resultados - Futebol/Portugal\n"
     ]
    },
    {
     "name": "stderr",
     "output_type": "stream",
     "text": [
      "100%|██████████| 5/5 [00:30<00:00,  6.16s/it]\n",
      " 95%|█████████▍| 18/19 [14:27<00:48, 48.17s/it]"
     ]
    },
    {
     "name": "stdout",
     "output_type": "stream",
     "text": [
      "cookies already closed\n",
      "Liga Jupiler 2024/2025 Resultados - Futebol/Bélgica\n"
     ]
    },
    {
     "name": "stderr",
     "output_type": "stream",
     "text": [
      "100%|██████████| 5/5 [00:29<00:00,  5.80s/it]\n",
      "100%|██████████| 19/19 [15:16<00:00, 48.23s/it]\n"
     ]
    }
   ],
   "source": [
    "from tinydb import TinyDB, Query\n",
    "from time import sleep\n",
    "from selenium import webdriver\n",
    "from selenium.webdriver.common.by import By\n",
    "from selenium.webdriver.chrome.options import Options\n",
    "from selenium.webdriver.chrome.service import Service\n",
    "from webdriver_manager.chrome import ChromeDriverManager\n",
    "from selenium.webdriver.support.ui import WebDriverWait\n",
    "from selenium.webdriver.support import expected_conditions as EC\n",
    "from tqdm.auto import tqdm\n",
    "import re\n",
    "import warnings\n",
    "warnings.filterwarnings(\"ignore\")\n",
    "chrome_options = Options()\n",
    "chrome_options.add_argument(\"--headless\")\n",
    "\n",
    "s=Service(ChromeDriverManager().install())\n",
    "driver = webdriver.Chrome(service=s)\n",
    "driver.maximize_window()\n",
    "ligas = [\n",
    "       'brazil/serie-a','brazil/serie-b','brazil/serie-c','mexico/liga-mx',\n",
    "       'norway/eliteserien','suecia/allsvenskan','japao/liga-j1',\n",
    "       'alemanha/2-bundesliga','alemanha/bundesliga','arabia-saudita/primeira-liga',\n",
    "       'inglaterra/campeonato-ingles','franca/ligue-1','italia/serie-a',\n",
    "       'italia/serie-b','espanha/laliga','espanha/laliga2','portugal/liga-portugal',\n",
    "       'portugal/liga-portugal-2','belgica/liga-jupiler'\n",
    "]\n",
    "\n",
    "\n",
    "for liga in tqdm(ligas):\n",
    "    colecao_partidas = TinyDB('./base_flashscore_temp_atual_projeto_2.json')\n",
    "    url = f'https://www.flashscore.com.br/futebol/{liga}/resultados/'\n",
    "    driver.get(url)\n",
    "\n",
    "    try:\n",
    "        WebDriverWait(driver, 8).until(EC.visibility_of_element_located((By.CSS_SELECTOR,'button#onetrust-accept-btn-handler')))\n",
    "        button_cookies = driver.find_element(By.CSS_SELECTOR,'button#onetrust-accept-btn-handler')\n",
    "        button_cookies.click()\n",
    "    except:\n",
    "        print(\"cookies already closed\")\n",
    "        \n",
    "        \n",
    "    while True:\n",
    "        botoes_proxima_pagina = driver.find_elements(By.CSS_SELECTOR, 'a.event__more--static')\n",
    "        if not botoes_proxima_pagina:\n",
    "            break\n",
    "        botoes_proxima_pagina[0].click()\n",
    "        sleep(1) \n",
    "    \n",
    "    sleep(5)    \n",
    "        \n",
    "\n",
    "    jogos = driver.find_elements(By.CSS_SELECTOR,'div.event__match')\n",
    "\n",
    "    sleep(3)\n",
    "\n",
    "    id_jogos = []\n",
    "\n",
    "    for i in jogos:\n",
    "        id_jogos.append(i.get_attribute(\"id\")[4:])  \n",
    "        id_jogos = id_jogos[:5] \n",
    "        \n",
    "    season = driver.find_element(By.CSS_SELECTOR,'div.heading__info').text \n",
    "    print(driver.title)\n",
    "\n",
    "    for id_jogo in tqdm(id_jogos):\n",
    "        procura_duplicado = Query()\n",
    "        if colecao_partidas.search(procura_duplicado.Id == id_jogo) == []:\n",
    "            try:\n",
    "                jogo = {}\n",
    "                jogo['Season'] = season\n",
    "                driver.get(f'https://www.flashscore.com.br/jogo/{id_jogo}/#/resumo-de-jogo/resumo-de-jogo')\n",
    "                jogo['Id'] = id_jogo\n",
    "                    ### Pais\n",
    "                country = driver.find_element(By.CSS_SELECTOR,'span.tournamentHeader__country').text.split(':')[0]\n",
    "                    ### Data e Hora\n",
    "                date = driver.find_element(By.CSS_SELECTOR,'div.duelParticipant__startTime').text.split(' ')[0]\n",
    "                jogo['Date'] = date.replace('.','/')\n",
    "                time = driver.find_element(By.CSS_SELECTOR,'div.duelParticipant__startTime').text.split(' ')[1]\n",
    "                jogo['Time'] = time\n",
    "                league = driver.find_element(By.CSS_SELECTOR,'span.tournamentHeader__country > a').text.split(' -')[0]\n",
    "                jogo['League'] = f'{country} - {league}'\n",
    "                ### Home e Away\n",
    "                home = driver.find_element(By.CSS_SELECTOR,'div.duelParticipant__home').find_element(By.CSS_SELECTOR,'div.participant__participantName').text\n",
    "                jogo['Home'] = home\n",
    "                away = driver.find_element(By.CSS_SELECTOR,'div.duelParticipant__away').find_element(By.CSS_SELECTOR,'div.participant__participantName').text\n",
    "                jogo['Away'] = away\n",
    "                try:\n",
    "                    rodada = driver.find_element(By.CSS_SELECTOR,'span.tournamentHeader__country > a').text.split('- ')[1]\n",
    "                    jogo['Round_number'] = rodada\n",
    "                except:\n",
    "                    jogo['Round_number'] = '-'\n",
    "                    \n",
    "                placar_ht =  driver.find_element(By.XPATH,'//*[@id=\"detail\"]/div[9]/div/div[1]/div[2]').text   \n",
    "                jogo['placar_ht'] = placar_ht\n",
    "                \n",
    "                placar_ht = placar_ht.replace('-', '')\n",
    "                placar_ht = placar_ht.split()\n",
    "                jogo['HT_Goals_H'] = placar_ht[0]\n",
    "                jogo['HT_Goals_A'] = placar_ht[1]\n",
    "                \n",
    "                placar = driver.find_elements(By.CSS_SELECTOR,'div.duelParticipant__score')[0].text \n",
    "                jogo['placar'] = placar\n",
    "                \n",
    "                numeros = re.findall(r'\\d+', placar)\n",
    "                placar_1 = numeros[0]\n",
    "                placar_2 = numeros[1]\n",
    "                jogo['FT_Goals_H'] = placar_1\n",
    "                jogo['FT_Goals_A'] = placar_2\n",
    "\n",
    "                del jogo['placar_ht']\n",
    "                del jogo['placar']\n",
    "  \n",
    "                url_ml_full_time = f'https://www.flashscore.com.br/jogo/{id_jogo}/#/comparacao-de-odds/1x2-odds/tempo-regulamentar'\n",
    "                driver.get(url_ml_full_time)\n",
    "                sleep(1)        \n",
    "                if driver.current_url == url_ml_full_time:\n",
    "                        WebDriverWait(driver, 8).until(EC.visibility_of_element_located((By.CSS_SELECTOR,'div.ui-table')))\n",
    "                        table_odds = driver.find_element(By.CSS_SELECTOR,'div.ui-table')\n",
    "                        linha_ml_ft = table_odds.find_element(By.CSS_SELECTOR,'div.ui-table__row')\n",
    "                        jogo['FT_Odd_ML_Bookie'] = linha_ml_ft.find_element(By.CSS_SELECTOR,'img.prematchLogo').get_attribute('title')\n",
    "                        jogo['FT_Odd_ML_H'] = float(linha_ml_ft.find_elements(By.CSS_SELECTOR,'a.oddsCell__odd')[0].text)\n",
    "                        jogo['FT_Odd_ML_D'] = float(linha_ml_ft.find_elements(By.CSS_SELECTOR,'a.oddsCell__odd')[1].text)\n",
    "                        jogo['FT_Odd_ML_A'] = float(linha_ml_ft.find_elements(By.CSS_SELECTOR,'a.oddsCell__odd')[2].text)\n",
    "                        \n",
    "                url_ou_full_time = f'https://www.flashscore.com.br/jogo/{id_jogo}/#/comparacao-de-odds/acima-abaixo/tempo-regulamentar'\n",
    "                driver.get(url_ou_full_time)\n",
    "                sleep(1)\n",
    "                if driver.current_url == url_ou_full_time:\n",
    "                    WebDriverWait(driver, 8).until(EC.visibility_of_element_located((By.CSS_SELECTOR,'div.ui-table')))\n",
    "                    linhas = driver.find_elements(By.CSS_SELECTOR,'div.ui-table__body')\n",
    "                    for linha in linhas:\n",
    "                        if (len(linha.find_elements(By.CSS_SELECTOR,'a.oddsCell__odd')) > 1):\n",
    "                            bookie = linha.find_element(By.CSS_SELECTOR,'img.prematchLogo').get_attribute('title')\n",
    "                            total_gols = linha.find_element(By.CSS_SELECTOR,'span.oddsCell__noOddsCell').text.replace('.','')\n",
    "                            if total_gols == '15':\n",
    "                                over = float(linha.find_elements(By.CSS_SELECTOR,'a.oddsCell__odd')[0].text)\n",
    "                                under = float(linha.find_elements(By.CSS_SELECTOR,'a.oddsCell__odd')[1].text)\n",
    "                                jogo[f'FT_Odd_OU_{total_gols}_Bookie'] = bookie\n",
    "                                jogo[f'FT_Odd_Over{total_gols}'] = over\n",
    "                                jogo[f'FT_Odd_Under{total_gols}'] = under\n",
    "                                del total_gols,over,under\n",
    "                            elif total_gols == '25':\n",
    "                                over = float(linha.find_elements(By.CSS_SELECTOR,'a.oddsCell__odd')[0].text)\n",
    "                                under = float(linha.find_elements(By.CSS_SELECTOR,'a.oddsCell__odd')[1].text)\n",
    "                                jogo[f'FT_Odd_OU_{total_gols}_Bookie'] = bookie\n",
    "                                jogo[f'FT_Odd_Over{total_gols}'] = over\n",
    "                                jogo[f'FT_Odd_Under{total_gols}'] = under\n",
    "                                del total_gols,over,under\n",
    "                            \n",
    "                url_btts_full_time = f'https://www.flashscore.com.br/jogo/{id_jogo}/#/comparacao-de-odds/ambos-marcam/tempo-regulamentar'\n",
    "                driver.get(url_btts_full_time)\n",
    "                sleep(1)\n",
    "                if driver.current_url == url_btts_full_time:\n",
    "                    WebDriverWait(driver, 8).until(EC.visibility_of_element_located((By.CSS_SELECTOR,'div.ui-table')))\n",
    "                    linha = driver.find_element(By.CSS_SELECTOR,'div.ui-table__row')\n",
    "                    bookie_btts = linha.find_element(By.CSS_SELECTOR,'img.prematchLogo').get_attribute('title')\n",
    "                    jogo['FT_Odd_BTTS_Bookie'] = bookie_btts\n",
    "                    jogo['FT_Odd_BTTS_Yes'] = float(linha.find_elements(By.CSS_SELECTOR,'a.oddsCell__odd')[0].text)\n",
    "                    jogo['FT_Odd_BTTS_No'] = float(linha.find_elements(By.CSS_SELECTOR,'a.oddsCell__odd')[1].text)\n",
    " \n",
    "                                    \n",
    "                colecao_partidas.insert(jogo.copy())\n",
    "                    \n",
    "            except:\n",
    "                print(f'Erro ao coletar dados do jogo {id_jogo}')\n",
    "                sleep(0.5) \n",
    "\n",
    "driver.quit()                   "
   ]
  }
 ],
 "metadata": {
  "kernelspec": {
   "display_name": "Python 3",
   "language": "python",
   "name": "python3"
  },
  "language_info": {
   "codemirror_mode": {
    "name": "ipython",
    "version": 3
   },
   "file_extension": ".py",
   "mimetype": "text/x-python",
   "name": "python",
   "nbconvert_exporter": "python",
   "pygments_lexer": "ipython3",
   "version": "3.12.0"
  }
 },
 "nbformat": 4,
 "nbformat_minor": 2
}
